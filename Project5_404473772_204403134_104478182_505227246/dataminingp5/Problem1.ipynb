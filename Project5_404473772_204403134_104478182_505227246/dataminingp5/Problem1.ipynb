{
 "cells": [
  {
   "cell_type": "markdown",
   "metadata": {},
   "source": [
    "# Problem 1"
   ]
  },
  {
   "cell_type": "markdown",
   "metadata": {},
   "source": [
    "## Definitions"
   ]
  },
  {
   "cell_type": "code",
   "execution_count": 1,
   "metadata": {},
   "outputs": [],
   "source": [
    "import json\n",
    "import datetime\n",
    "from math import ceil\n",
    "\n",
    "names = [\"tweets_#gohawks.txt\", \"tweets_#gopatriots.txt\", \\\n",
    "         \"tweets_#nfl.txt\", \"tweets_#patriots.txt\", \"tweets_#sb49.txt\", \"tweets_#superbowl.txt\"]"
   ]
  },
  {
   "cell_type": "markdown",
   "metadata": {},
   "source": [
    "## Problem 1a"
   ]
  },
  {
   "cell_type": "code",
   "execution_count": 4,
   "metadata": {},
   "outputs": [],
   "source": [
    "def rate_of_tweets(name):   \n",
    "    tweets = []\n",
    "    for line in open(name, 'r'):\n",
    "        l = json.loads(line)\n",
    "        tweets.append(l['citation_date'])\n",
    "\n",
    "    time = (max(tweets) - min(tweets) + 1)/3600.0\n",
    "    print len(tweets) / time"
   ]
  },
  {
   "cell_type": "code",
   "execution_count": 5,
   "metadata": {},
   "outputs": [
    {
     "name": "stdout",
     "output_type": "stream",
     "text": [
      "292.48771011\n",
      "40.9546781893\n",
      "397.021202281\n",
      "750.893909148\n",
      "1276.85645087\n",
      "2072.11741911\n"
     ]
    }
   ],
   "source": [
    "for i in range(0,6):\n",
    "    rate_of_tweets(names[i])"
   ]
  },
  {
   "cell_type": "markdown",
   "metadata": {},
   "source": [
    "## Problem 1b"
   ]
  },
  {
   "cell_type": "code",
   "execution_count": 6,
   "metadata": {},
   "outputs": [],
   "source": [
    "def rate_of_fols(name):   \n",
    "    tweets = []\n",
    "    for line in open(name, 'r'):\n",
    "        l = json.loads(line)\n",
    "        tweets.append(l['author']['followers'])\n",
    "\n",
    "    total_foll = sum(tweets) / 1.0\n",
    "    print total_foll / len(tweets)"
   ]
  },
  {
   "cell_type": "code",
   "execution_count": 7,
   "metadata": {},
   "outputs": [
    {
     "name": "stdout",
     "output_type": "stream",
     "text": [
      "2217.92373553\n",
      "1427.25260516\n",
      "4662.37544524\n",
      "3280.46356166\n",
      "10374.160292\n",
      "8814.96799425\n"
     ]
    }
   ],
   "source": [
    "for i in range(0,6):\n",
    "    rate_of_fols(names[i])"
   ]
  },
  {
   "cell_type": "markdown",
   "metadata": {},
   "source": [
    "## Problem 1c"
   ]
  },
  {
   "cell_type": "code",
   "execution_count": 8,
   "metadata": {},
   "outputs": [],
   "source": [
    "def rate_of_retweet(name):   \n",
    "    tweets = []\n",
    "    for line in open(name, 'r'):\n",
    "        l = json.loads(line)\n",
    "        tweets.append(l['metrics']['citations']['total'])\n",
    "\n",
    "    total_retw = sum(tweets) / 1.0\n",
    "    print total_retw / len(tweets)"
   ]
  },
  {
   "cell_type": "code",
   "execution_count": 9,
   "metadata": {},
   "outputs": [
    {
     "name": "stdout",
     "output_type": "stream",
     "text": [
      "2.01320939913\n",
      "1.40819191017\n",
      "1.53446026555\n",
      "1.78528712885\n",
      "2.52713444111\n",
      "2.39118958192\n"
     ]
    }
   ],
   "source": [
    "for i in range(0,6):\n",
    "    rate_of_retweet(names[i])"
   ]
  }
 ],
 "metadata": {
  "kernelspec": {
   "display_name": "Python 3",
   "language": "python",
   "name": "python3"
  },
  "language_info": {
   "codemirror_mode": {
    "name": "ipython",
    "version": 2
   },
   "file_extension": ".py",
   "mimetype": "text/x-python",
   "name": "python",
   "nbconvert_exporter": "python",
   "pygments_lexer": "ipython2",
   "version": "2.7.15"
  }
 },
 "nbformat": 4,
 "nbformat_minor": 2
}
